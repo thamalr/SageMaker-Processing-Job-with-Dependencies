{
 "cells": [
  {
   "attachments": {},
   "cell_type": "markdown",
   "id": "94b0a21b",
   "metadata": {},
   "source": [
    "# RUN PIPELINE"
   ]
  },
  {
   "attachments": {},
   "cell_type": "markdown",
   "id": "8a2b9ea2",
   "metadata": {},
   "source": [
    "### Import libraries"
   ]
  },
  {
   "cell_type": "code",
   "execution_count": 29,
   "id": "4cafceaa",
   "metadata": {},
   "outputs": [],
   "source": [
    "import os\n",
    "import pytz\n",
    "import boto3\n",
    "import sagemaker\n",
    "import sagemaker.session\n",
    "from sagemaker.processing import (\n",
    "    ProcessingInput,\n",
    "    ProcessingOutput,\n",
    "    ScriptProcessor,\n",
    ")\n",
    "from sagemaker.workflow.pipeline import Pipeline\n",
    "from sagemaker.workflow.properties import PropertyFile\n",
    "from sagemaker.workflow.steps import ProcessingStep\n"
   ]
  },
  {
   "cell_type": "code",
   "execution_count": 30,
   "id": "174a645e",
   "metadata": {},
   "outputs": [],
   "source": [
    "def get_session(region, default_bucket):\n",
    "    \"\"\"Gets the sagemaker session based on the region.\n",
    "    Args:\n",
    "        region: the aws region to start the session\n",
    "        default_bucket: the bucket to use for storing the artifacts\n",
    "    Returns:\n",
    "        `sagemaker.session.Session instance\n",
    "    \"\"\"\n",
    "\n",
    "    boto_session = boto3.Session(region_name=region)\n",
    "\n",
    "    sagemaker_client = boto_session.client(\"sagemaker\")\n",
    "    runtime_client = boto_session.client(\"sagemaker-runtime\")\n",
    "    return sagemaker.session.Session(\n",
    "        boto_session=boto_session,\n",
    "        sagemaker_client=sagemaker_client,\n",
    "        sagemaker_runtime_client=runtime_client,\n",
    "        default_bucket=default_bucket,\n",
    "    )"
   ]
  },
  {
   "cell_type": "code",
   "execution_count": null,
   "id": "41cab57a",
   "metadata": {},
   "outputs": [],
   "source": [
    "region = # define your region\n",
    "role=# define iam role arn\n",
    "default_bucket= # define a bucket\n",
    "pipeline_name= #define a pipeline"
   ]
  },
  {
   "attachments": {},
   "cell_type": "markdown",
   "id": "9739586b",
   "metadata": {},
   "source": [
    "### Define the  pipeline "
   ]
  },
  {
   "cell_type": "code",
   "execution_count": 32,
   "id": "e2a278e8",
   "metadata": {},
   "outputs": [],
   "source": [
    "def get_pipeline(\n",
    "    region,\n",
    "    role=None,\n",
    "    default_bucket=None,\n",
    "    pipeline_name\n",
    "):\n",
    "    \"\"\"Gets a SageMaker ML Pipeline instance working with on own data.\n",
    "    Args:\n",
    "        region: AWS region to create and run the pipeline.\n",
    "        role: IAM role to create and run steps and pipeline.\n",
    "        default_bucket: the bucket to use for storing the artifacts\n",
    "    Returns:\n",
    "        an instance of a pipeline\n",
    "    \"\"\"\n",
    "\n",
    "    \n",
    "    #working with input data path\n",
    "    input_data = # input data s3 path\n",
    "\n",
    "    \n",
    "    #working with output data path   \n",
    "    preprocessed_output1 = # s3 path to save output1\n",
    "    preprocessed_output2 = # s3 path to save output2\n",
    "\n",
    "    # ECR image name\n",
    "    ecr_repository = # ECR name\n",
    "\n",
    "    sagemaker_session = get_session(region, default_bucket)\n",
    "\n",
    "    if role is None:\n",
    "        role = sagemaker.session.get_execution_role(sagemaker_session)\n",
    "    account_id = boto3.client(\"sts\").get_caller_identity().get(\"Account\")\n",
    "    region = boto3.session.Session().region_name\n",
    "\n",
    "    # Parameters for pipeline execution\n",
    "\n",
    "    ####### --------------------- PREPROCESSING --------------------------------------------------------------------\n",
    "\n",
    "\n",
    "    uri_suffix = \"amazonaws.com\"\n",
    "    tag = \":latest\"\n",
    "\n",
    "    preprocessing_repository_uri = \"{}.dkr.ecr.{}.{}/{}\".format(\n",
    "        account_id, region, uri_suffix, ecr_repository + tag\n",
    "    )\n",
    "        \n",
    "    script_processor = ScriptProcessor(\n",
    "         command = [\"python3\"],\n",
    "         image_uri = preprocessing_repository_uri,\n",
    "         role = role,\n",
    "         instance_count = ,\n",
    "         instance_type = 1,\n",
    "         tags = [{'Key': 'JobType', 'Value': 'Preprocessing'}]\n",
    "    )\n",
    "    \n",
    "    step_preprocess = ProcessingStep(\n",
    "        name= \"preprocessing-step\",\n",
    "        processor= script_processor, \n",
    "        code= 'Processing_job/preprocessing.py',\n",
    "        inputs= [ProcessingInput(source=input_data, destination=\"/opt/ml/processing/input\"),\n",
    "                ProcessingInput(source='Processing_job/my_package/', destination=\"/opt/ml/processing/input/code/my_package/\")\n",
    "               ],\n",
    "        outputs= [\n",
    "            ProcessingOutput(output_name=\"output1\", destination=preprocessed_output1, source=\"/opt/ml/processing/output1\"),\n",
    "            ProcessingOutput(output_name=\"output2\", destination=preprocessed_output2,  source=\"/opt/ml/processing/output2\")\n",
    "        ]\n",
    "    )\n",
    "    \n",
    "    # ========================================= PIPELINE ORCHESTRATION ================================================\n",
    "    \n",
    "    # Pipeline instance\n",
    "    pipeline = Pipeline(\n",
    "        name=pipeline_name,\n",
    "        parameters=[\n",
    "        ],\n",
    "        steps=[\n",
    "            step_preprocess,\n",
    "              ],\n",
    "        sagemaker_session=sagemaker_session,\n",
    "    )\n",
    "    return pipeline\n"
   ]
  },
  {
   "cell_type": "code",
   "execution_count": 34,
   "id": "ece56d69",
   "metadata": {},
   "outputs": [],
   "source": [
    "pipeline_def = get_pipeline(region, \n",
    "                            role,\n",
    "                            default_bucket)\n",
    "pipeline_def.upsert(role_arn=role)\n",
    "execution = pipeline_def.start()"
   ]
  },
  {
   "attachments": {},
   "cell_type": "markdown",
   "id": "73c5f4c0",
   "metadata": {},
   "source": [
    "# Delete pipeline"
   ]
  },
  {
   "cell_type": "code",
   "execution_count": 153,
   "id": "3ba8e910",
   "metadata": {},
   "outputs": [],
   "source": [
    "client = boto3.client('sagemaker')\n",
    "response = client.delete_pipeline(\n",
    "    PipelineName = #Pipeline name,\n",
    "ClientRequestToken= '12345678890123456789012345678901245')\n",
    "# Client token is any 32 digit"
   ]
  }
 ],
 "metadata": {
  "kernelspec": {
   "display_name": "conda_python3",
   "language": "python",
   "name": "conda_python3"
  },
  "language_info": {
   "codemirror_mode": {
    "name": "ipython",
    "version": 3
   },
   "file_extension": ".py",
   "mimetype": "text/x-python",
   "name": "python",
   "nbconvert_exporter": "python",
   "pygments_lexer": "ipython3",
   "version": "3.6.13"
  }
 },
 "nbformat": 4,
 "nbformat_minor": 5
}
